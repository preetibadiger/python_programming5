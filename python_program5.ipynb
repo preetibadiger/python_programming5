{
 "cells": [
  {
   "cell_type": "code",
   "execution_count": null,
   "id": "437d0bfb",
   "metadata": {},
   "outputs": [],
   "source": [
    "1. Write a Python Program to Find LCM?"
   ]
  },
  {
   "cell_type": "code",
   "execution_count": 8,
   "id": "3fcdbc4b",
   "metadata": {},
   "outputs": [
    {
     "name": "stdout",
     "output_type": "stream",
     "text": [
      "Enter first number: 6\n",
      "Enter second number: 7\n",
      "The L.C.M. of 6 and 7 is 42\n"
     ]
    }
   ],
   "source": [
    "# defining a function to calculate LCM (Least Common Multiple/ Lowest Common Multiple)\n",
    "def calculate_lcm(x, y):  \n",
    "    # selecting the greater number  \n",
    "    if x > y:  \n",
    "        greater = x  \n",
    "    else:  \n",
    "        greater = y  \n",
    "    while(True):  \n",
    "        if((greater % x == 0) and (greater % y == 0)):  \n",
    "            lcm = greater  \n",
    "            break  \n",
    "        greater += 1  \n",
    "    return lcm    \n",
    "  \n",
    "# taking input from users  \n",
    "num1 = int(input(\"Enter first number: \"))  \n",
    "num2 = int(input(\"Enter second number: \"))  \n",
    "# printing the result for the users  \n",
    "print(\"The L.C.M. of\", num1,\"and\", num2,\"is\", calculate_lcm(num1, num2)) "
   ]
  },
  {
   "cell_type": "code",
   "execution_count": null,
   "id": "8a6a40ef",
   "metadata": {},
   "outputs": [],
   "source": [
    "2. Write a Python Program to Find HCF?"
   ]
  },
  {
   "cell_type": "code",
   "execution_count": 12,
   "id": "69aef15c",
   "metadata": {},
   "outputs": [
    {
     "name": "stdout",
     "output_type": "stream",
     "text": [
      "Enter first number: 5\n",
      "Enter second number: 6\n",
      "The H.C.F. of 5 and 6 is 1\n"
     ]
    }
   ],
   "source": [
    "# defining a function to calculate HCF (Highest Common Factor) \n",
    "def calculate_hcf(x, y):  \n",
    "    # selecting the smaller number  \n",
    "    if x > y:  \n",
    "        smaller = y  \n",
    "    else:  \n",
    "        smaller = x  \n",
    "    for i in range(1,smaller + 1):  \n",
    "        if((x % i == 0) and (y % i == 0)):  \n",
    "            hcf = i  \n",
    "    return hcf  \n",
    "  \n",
    "# taking input from users  \n",
    "num1 = int(input(\"Enter first number: \"))  \n",
    "num2 = int(input(\"Enter second number: \"))  \n",
    "# printing the result for the users  \n",
    "print(\"The H.C.F. of\", num1,\"and\", num2,\"is\", calculate_hcf(num1, num2))  "
   ]
  },
  {
   "cell_type": "code",
   "execution_count": null,
   "id": "313473ab",
   "metadata": {},
   "outputs": [],
   "source": [
    "3. Write a Python Program to Convert Decimal to Binary, Octal and Hexadecimal?"
   ]
  },
  {
   "cell_type": "code",
   "execution_count": 14,
   "id": "2a342a23",
   "metadata": {},
   "outputs": [
    {
     "name": "stdout",
     "output_type": "stream",
     "text": [
      " Enter the Decimal Number: 6\n",
      "The given decimal number 6 in Binary number is:  0b110\n",
      "The given decimal number 6 in Octal number is:  0o6\n",
      "The given decimal number 6  in Hexadecimal number is:  0x6\n"
     ]
    }
   ],
   "source": [
    "\n",
    "# First, we will define the function to convert decimal to binary  \n",
    "def decimal_into_binary(decimal_1):  \n",
    "    decimal = int(decimal_1)  \n",
    "    \n",
    "    # then, print the equivalent decimal  \n",
    "    print (\"The given decimal number\", decimal, \"in Binary number is: \", bin(decimal))  \n",
    "# we will define the function to convert decimal to octal  \n",
    "def decimal_into_octal(decimal_1):  \n",
    "    decimal = int(decimal_1)  \n",
    "    \n",
    "    # Then, print the equivalent decimal  \n",
    "    print (\"The given decimal number\", decimal, \"in Octal number is: \", oct(decimal))  \n",
    "# we will define the function to convert decimal to hexadecimal  \n",
    "def decimal_into_hexadecimal(decimal_1):  \n",
    "    decimal = int(decimal_1)  \n",
    "    \n",
    "    # Then, print the equivalent decimal  \n",
    "    print (\"The given decimal number\", decimal, \" in Hexadecimal number is: \", hex(decimal))  \n",
    "    \n",
    "# Driver program  \n",
    "decimal_1 = int (input (\" Enter the Decimal Number: \"))  \n",
    "decimal_into_binary(decimal_1)  \n",
    "decimal_into_octal(decimal_1)  \n",
    "decimal_into_hexadecimal(decimal_1)  \n"
   ]
  },
  {
   "cell_type": "code",
   "execution_count": null,
   "id": "0f172685",
   "metadata": {},
   "outputs": [],
   "source": [
    "4. Write a Python Program To Find ASCII value of a character?"
   ]
  },
  {
   "cell_type": "code",
   "execution_count": 19,
   "id": "c6e8d89b",
   "metadata": {},
   "outputs": [
    {
     "name": "stdout",
     "output_type": "stream",
     "text": [
      "Please enter a character: a\n",
      "The ASCII value of 'a' is  97\n"
     ]
    }
   ],
   "source": [
    "K = input(\"Please enter a character: \")    \n",
    "    \n",
    "print (\"The ASCII value of '\" + K + \"' is \", ord(K))  "
   ]
  },
  {
   "cell_type": "code",
   "execution_count": null,
   "id": "7430dcda",
   "metadata": {},
   "outputs": [],
   "source": [
    "5. Write a Python Program to Make a Simple Calculator with 4 basic mathematical operations?"
   ]
  },
  {
   "cell_type": "code",
   "execution_count": 33,
   "id": "696b0f93",
   "metadata": {},
   "outputs": [
    {
     "name": "stdout",
     "output_type": "stream",
     "text": [
      "Select operation.\n",
      "1.Add\n",
      "2.Subtract\n",
      "3.Multiply\n",
      "4.Divide\n",
      "Enter choice(1/2/3/4): 1\n",
      "Enter first number: 2\n",
      "Enter second number: 3\n",
      "2.0 + 3.0 = 5.0\n",
      "Let's do next calculation? (yes/no): yes\n",
      "Enter choice(1/2/3/4): 2\n",
      "Enter first number: 4\n",
      "Enter second number: 2\n",
      "4.0 - 2.0 = 2.0\n",
      "Let's do next calculation? (yes/no): yes\n",
      "Enter choice(1/2/3/4): 3\n",
      "Enter first number: 4\n",
      "Enter second number: 4\n",
      "4.0 * 4.0 = 16.0\n",
      "Let's do next calculation? (yes/no): yes\n",
      "Enter choice(1/2/3/4): 81\n",
      "Invalid Input\n",
      "Enter choice(1/2/3/4): 8\n",
      "Invalid Input\n",
      "Enter choice(1/2/3/4): 4\n",
      "Enter first number: 3\n",
      "Enter second number: 45\n",
      "3.0 / 45.0 = 0.06666666666666667\n",
      "Let's do next calculation? (yes/no): no\n"
     ]
    }
   ],
   "source": [
    "# Program make a simple calculator\n",
    "\n",
    "# This function adds two numbers\n",
    "def add(x, y):\n",
    "    return x + y\n",
    "\n",
    "# This function subtracts two numbers\n",
    "def subtract(x, y):\n",
    "    return x - y\n",
    "\n",
    "# This function multiplies two numbers\n",
    "def multiply(x, y):\n",
    "    return x * y\n",
    "\n",
    "# This function divides two numbers\n",
    "def divide(x, y):\n",
    "    return x / y\n",
    "\n",
    "\n",
    "print(\"Select operation.\")\n",
    "print(\"1.Add\")\n",
    "print(\"2.Subtract\")\n",
    "print(\"3.Multiply\")\n",
    "print(\"4.Divide\")\n",
    "\n",
    "while True:\n",
    "    # take input from the user\n",
    "    choice = input(\"Enter choice(1/2/3/4): \")\n",
    "\n",
    "    # check if choice is one of the four options\n",
    "    if choice in ('1', '2', '3', '4'):\n",
    "        num1 = float(input(\"Enter first number: \"))\n",
    "        num2 = float(input(\"Enter second number: \"))\n",
    "\n",
    "        if choice == '1':\n",
    "            print(num1, \"+\", num2, \"=\", add(num1, num2))\n",
    "\n",
    "        elif choice == '2':\n",
    "            print(num1, \"-\", num2, \"=\", subtract(num1, num2))\n",
    "\n",
    "        elif choice == '3':\n",
    "            print(num1, \"*\", num2, \"=\", multiply(num1, num2))\n",
    "\n",
    "        elif choice == '4':\n",
    "            print(num1, \"/\", num2, \"=\", divide(num1, num2))\n",
    "        \n",
    "        # check if user wants another calculation\n",
    "        # break the while loop if answer is no\n",
    "        next_calculation = input(\"Let's do next calculation? (yes/no): \")\n",
    "        if next_calculation == \"no\":\n",
    "          break\n",
    "    \n",
    "    else:\n",
    "        print(\"Invalid Input\")\n"
   ]
  },
  {
   "cell_type": "code",
   "execution_count": null,
   "id": "b3754d0c",
   "metadata": {},
   "outputs": [],
   "source": []
  }
 ],
 "metadata": {
  "kernelspec": {
   "display_name": "Python 3 (ipykernel)",
   "language": "python",
   "name": "python3"
  },
  "language_info": {
   "codemirror_mode": {
    "name": "ipython",
    "version": 3
   },
   "file_extension": ".py",
   "mimetype": "text/x-python",
   "name": "python",
   "nbconvert_exporter": "python",
   "pygments_lexer": "ipython3",
   "version": "3.9.7"
  }
 },
 "nbformat": 4,
 "nbformat_minor": 5
}
